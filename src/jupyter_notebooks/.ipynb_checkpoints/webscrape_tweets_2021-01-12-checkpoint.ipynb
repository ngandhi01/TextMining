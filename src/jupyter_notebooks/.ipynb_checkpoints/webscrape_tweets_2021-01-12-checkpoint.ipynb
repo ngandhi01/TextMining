{
 "cells": [
  {
   "cell_type": "markdown",
   "metadata": {},
   "source": [
    "### Purpose of script\n",
    "\n",
    "The purpose of this script is to use web scraping (with Selenium) in order to get historical tweets. \n",
    "\n",
    "The tweepy streaming API allows you to scrape more recent tweets, but isn't a reliable way to scrape historical data. \n",
    "\n",
    "We'll use web-scraping to get historical data. \n",
    "\n",
    "(SCRIPT SCRAPPED)"
   ]
  },
  {
   "cell_type": "code",
   "execution_count": 5,
   "metadata": {},
   "outputs": [],
   "source": [
    "import numpy as np\n",
    "import pandas as pd\n",
    "from selenium import webdriver\n",
    "from selenium.webdriver.common.by import By\n",
    "import time"
   ]
  },
  {
   "cell_type": "code",
   "execution_count": 10,
   "metadata": {},
   "outputs": [],
   "source": [
    "PATH = \"/Users/mark/Documents/research/gersteinLab/TextMining-master/chromedriver\"\n",
    "driver = webdriver.Chrome(PATH)"
   ]
  },
  {
   "cell_type": "code",
   "execution_count": 20,
   "metadata": {},
   "outputs": [
    {
     "name": "stdout",
     "output_type": "stream",
     "text": [
      "word\n",
      "wordword\n"
     ]
    }
   ],
   "source": [
    "word = \"word\"\n",
    "print(word)\n",
    "word += \"word\"\n",
    "print(word)"
   ]
  },
  {
   "cell_type": "code",
   "execution_count": 33,
   "metadata": {},
   "outputs": [],
   "source": [
    "def get_tweets_by_query(search_terms, start_date=\"2020-01-01\", end_date=\"2020-12-31\"):\n",
    "    \n",
    "    \"\"\"\n",
    "    \n",
    "        Uses Selenium and web-scraping to get tweets of interest\n",
    "        \n",
    "        :search_terms: list of terms to query for. \n",
    "        Script searches for tweets with any of the terms in the list\n",
    "        \n",
    "        :start_date: start date of query (in the format YYYY-MM-DD)\n",
    "        \n",
    "        :end_date: end date of query (in the format YYYY-MM-DD)\n",
    "        \n",
    "    \"\"\"\n",
    "    \n",
    "    # search terms\n",
    "    if len(search_terms) < 1:\n",
    "        raise Exception(\"Need to include at least 1 search term\")\n",
    "        \n",
    "    terms_query_str = \"\"\n",
    "    \n",
    "    terms_query_str += str(search_terms[0])\n",
    "    \n",
    "    for i in range(1, len(search_terms)):\n",
    "        terms_query_str += \"%20OR%20\"\n",
    "        terms_query_str += str(search_terms[i])\n",
    "        \n",
    "    # dates\n",
    "    date_query_str = f\"until%3A{end_date}%20since%3A{start_date}\"\n",
    "    \n",
    "    # full\n",
    "    search_query = f\"search?q=({terms_query_str})%20{date_query_str}&src=typed_query\"\n",
    "    full_link = f\"https://twitter.com/{search_query}\"\n",
    "    \n",
    "    \n",
    "    # implements advanced search, but automatically: https://twitter.com/search-advanced?lang=en\n",
    "    try:\n",
    "        # open Twitter page\n",
    "        PATH = \"/Users/mark/Documents/research/gersteinLab/TextMining-master/chromedriver\"\n",
    "        driver = webdriver.Chrome(PATH)\n",
    "\n",
    "        #driver.get(\"https://twitter.com/search?q=(genomics%20OR%20variants)%20until%3A2019-02-01%20since%3A2019-01-01&src=typed_query\")\n",
    "        driver.get(full_link)\n",
    "        time.sleep(5)\n",
    "        \n",
    "        # get scroll height, then scroll \n",
    "        scroll_height = driver.execute_script(\"return document.body.scrollHeight\")\n",
    "        print(f\"The scroll height is: {scroll_height}\")\n",
    "        for i in range(5):\n",
    "            print(i)\n",
    "            row = driver.find_element(By.XPATH, \"/html/body/div/div/div/div[2]/main/div/div/div/div/div/div[2]/div/div/section/div/div/div[4]/div/div/article/div/div/div/div[2]/div[2]/div[2]/div[1]/div\")\n",
    "            print(row)\n",
    "            print(f\"The row text is: {row.text}\")\n",
    "            total_row_text = \"\"\n",
    "            row_child_elements = row.find_elements_by_xpath(\".//*\")\n",
    "            for child in row_child_elements:\n",
    "                total_row_text += child.text\n",
    "            print(f\"After going through the child elements, the total row text is: {total_row_text}\")\n",
    "            time.sleep(2)\n",
    "            \n",
    "            driver.execute_script(f\"window.scrollTo(0, {scroll_height})\")\n",
    "            time.sleep(2)\n",
    "\n",
    "        key=input(\"Quit script? Type 'y' to quit script\")\n",
    "        if key=='y':\n",
    "            driver.quit()\n",
    "            \n",
    "    except Exception as e:\n",
    "        print(\"Unable to finish script\")\n",
    "        print(e)\n",
    "        driver.quit()\n",
    "    \n",
    "    "
   ]
  },
  {
   "cell_type": "code",
   "execution_count": null,
   "metadata": {},
   "outputs": [],
   "source": [
    "\"#react-root > div > div > div.css-1dbjc4n.r-18u37iz.r-13qz1uu.r-417010 > main > div > div > div > div > div > div:nth-child(2) > div > div > section > div > div > div:nth-child(4) > div > div > article > div > div > div > div.css-1dbjc4n.r-18u37iz > div.css-1dbjc4n.r-1iusvr4.r-16y2uox.r-1777fci.r-1mi0q7o > div:nth-child(2) > div:nth-child(2) > div\""
   ]
  },
  {
   "cell_type": "code",
   "execution_count": null,
   "metadata": {},
   "outputs": [],
   "source": [
    "\"/html/body/div/div/div/div[2]/main/div/div/div/div/div/div[2]/div/div/section/div/div/div[4]/div/div/article/div/div/div/div[2]/div[2]/div[2]/div[2]/div\""
   ]
  },
  {
   "cell_type": "code",
   "execution_count": null,
   "metadata": {},
   "outputs": [],
   "source": [
    "\"/html/body/div/div/div/div[2]/main/div/div/div/div/div/div[2]/div/div/section/div/div/div[5]/div/div/article/div/div/div/div[2]/div[2]/div[2]/div[1]/div\""
   ]
  },
  {
   "cell_type": "code",
   "execution_count": null,
   "metadata": {},
   "outputs": [],
   "source": [
    "\"/html/body/div/div/div/div[2]/main/div/div/div/div/div/div[2]/div/div/section/div/div/div[6]/div/div/article/div/div/div/div[2]/div[2]/div[2]/div[2]/div\""
   ]
  },
  {
   "cell_type": "code",
   "execution_count": null,
   "metadata": {},
   "outputs": [],
   "source": [
    "\"/html/body/div/div/div/div[2]/main/div/div/div/div/div/div[2]/div/div/section/div/div/div[7]/div/div/article/div/div/div/div[2]/div[2]/div[2]/div[2]/div\""
   ]
  },
  {
   "cell_type": "code",
   "execution_count": null,
   "metadata": {},
   "outputs": [],
   "source": [
    "\"/html/body/div/div/div/div[2]/main/div/div/div/div/div/div[2]/div/div/section/div/div/div[8]/div/div/article/div/div/div/div[2]/div[2]/div[2]/div[1]/div\""
   ]
  },
  {
   "cell_type": "code",
   "execution_count": null,
   "metadata": {},
   "outputs": [],
   "source": [
    "\"/html/body/div/div/div/div[2]/main/div/div/div/div/div/div[2]/div/div/section/div/div/div[17]/div/div/article/div/div/div/div[2]/div[2]/div[2]/div[1]/div\""
   ]
  },
  {
   "cell_type": "code",
   "execution_count": null,
   "metadata": {},
   "outputs": [],
   "source": [
    "\"/html/body/div/div/div/div[2]/main/div/div/div/div/div/div[2]/div/div/section/div/div/div[10]/div/div/article/div/div/div/div[2]/div[2]/div[2]/div[1]/div\""
   ]
  },
  {
   "cell_type": "code",
   "execution_count": null,
   "metadata": {},
   "outputs": [],
   "source": []
  },
  {
   "cell_type": "code",
   "execution_count": 34,
   "metadata": {},
   "outputs": [
    {
     "name": "stdout",
     "output_type": "stream",
     "text": [
      "The scroll height is: 4281\n",
      "0\n",
      "<selenium.webdriver.remote.webelement.WebElement (session=\"664162bb078f19df03e8d78ccc6be178\", element=\"26726a29-b628-4cfd-88b9-9479173ffc14\")>\n",
      "The row text is: Replying to \n",
      "@KathrynBristow\n",
      " @joslyoung\n",
      " and 3 others\n",
      "After going through the child elements, the total row text is: @KathrynBristow@KathrynBristow@KathrynBristow@joslyoung@joslyoung@joslyoungand 3 othersand 3 others\n",
      "1\n",
      "<selenium.webdriver.remote.webelement.WebElement (session=\"664162bb078f19df03e8d78ccc6be178\", element=\"f3d4956a-35a4-472e-a4b7-5d3939cdf111\")>\n",
      "The row text is: anyway how yall feeling about childe having milkies as a result of human biology trying to cope with incubating an egg. cause im feeling like it's zhongli's birthday and we should treat him.\n",
      "After going through the child elements, the total row text is: anyway how yall feeling about childe having milkies as a result of human biology trying to cope with incubating an egg. cause im feeling like it's zhongli's birthday and we should treat him.\n",
      "2\n",
      "<selenium.webdriver.remote.webelement.WebElement (session=\"664162bb078f19df03e8d78ccc6be178\", element=\"aa17c54f-4988-408d-9374-a7f8c8f0e567\")>\n",
      "The row text is: Replying to \n",
      "@KathrynBristow\n",
      " @joslyoung\n",
      " and 3 others\n",
      "After going through the child elements, the total row text is: @KathrynBristow@KathrynBristow@KathrynBristow@joslyoung@joslyoung@joslyoungand 3 othersand 3 others\n",
      "3\n",
      "<selenium.webdriver.remote.webelement.WebElement (session=\"664162bb078f19df03e8d78ccc6be178\", element=\"32578d67-89c1-4974-b9b7-2a4670080dad\")>\n",
      "The row text is: Replying to \n",
      "@kitty_science\n",
      "After going through the child elements, the total row text is: @kitty_science@kitty_science@kitty_science\n",
      "4\n",
      "<selenium.webdriver.remote.webelement.WebElement (session=\"664162bb078f19df03e8d78ccc6be178\", element=\"226f5dab-757a-4a39-98d1-c52c2a3a1852\")>\n",
      "The row text is: Replying to \n",
      "@ABC7\n",
      "After going through the child elements, the total row text is: @ABC7@ABC7@ABC7\n"
     ]
    },
    {
     "ename": "KeyboardInterrupt",
     "evalue": "Interrupted by user",
     "output_type": "error",
     "traceback": [
      "\u001b[0;31m---------------------------------------------------------------------------\u001b[0m",
      "\u001b[0;31mKeyboardInterrupt\u001b[0m                         Traceback (most recent call last)",
      "\u001b[0;32m<ipython-input-34-2dfbe91cc5fb>\u001b[0m in \u001b[0;36m<module>\u001b[0;34m\u001b[0m\n\u001b[0;32m----> 1\u001b[0;31m \u001b[0mget_tweets_by_query\u001b[0m\u001b[0;34m(\u001b[0m\u001b[0;34m[\u001b[0m\u001b[0;34m\"genomics\"\u001b[0m\u001b[0;34m,\u001b[0m \u001b[0;34m\"biology\"\u001b[0m\u001b[0;34m,\u001b[0m \u001b[0;34m\"variants\"\u001b[0m\u001b[0;34m]\u001b[0m\u001b[0;34m)\u001b[0m\u001b[0;34m\u001b[0m\u001b[0;34m\u001b[0m\u001b[0m\n\u001b[0m",
      "\u001b[0;32m<ipython-input-33-418e105f6bc2>\u001b[0m in \u001b[0;36mget_tweets_by_query\u001b[0;34m(search_terms, start_date, end_date)\u001b[0m\n\u001b[1;32m     62\u001b[0m             \u001b[0mtime\u001b[0m\u001b[0;34m.\u001b[0m\u001b[0msleep\u001b[0m\u001b[0;34m(\u001b[0m\u001b[0;36m2\u001b[0m\u001b[0;34m)\u001b[0m\u001b[0;34m\u001b[0m\u001b[0;34m\u001b[0m\u001b[0m\n\u001b[1;32m     63\u001b[0m \u001b[0;34m\u001b[0m\u001b[0m\n\u001b[0;32m---> 64\u001b[0;31m         \u001b[0mkey\u001b[0m\u001b[0;34m=\u001b[0m\u001b[0minput\u001b[0m\u001b[0;34m(\u001b[0m\u001b[0;34m\"Quit script? Type 'y' to quit script\"\u001b[0m\u001b[0;34m)\u001b[0m\u001b[0;34m\u001b[0m\u001b[0;34m\u001b[0m\u001b[0m\n\u001b[0m\u001b[1;32m     65\u001b[0m         \u001b[0;32mif\u001b[0m \u001b[0mkey\u001b[0m\u001b[0;34m==\u001b[0m\u001b[0;34m'y'\u001b[0m\u001b[0;34m:\u001b[0m\u001b[0;34m\u001b[0m\u001b[0;34m\u001b[0m\u001b[0m\n\u001b[1;32m     66\u001b[0m             \u001b[0mdriver\u001b[0m\u001b[0;34m.\u001b[0m\u001b[0mquit\u001b[0m\u001b[0;34m(\u001b[0m\u001b[0;34m)\u001b[0m\u001b[0;34m\u001b[0m\u001b[0;34m\u001b[0m\u001b[0m\n",
      "\u001b[0;32m~/opt/anaconda3/envs/twitter_venv/lib/python3.8/site-packages/ipykernel/kernelbase.py\u001b[0m in \u001b[0;36mraw_input\u001b[0;34m(self, prompt)\u001b[0m\n\u001b[1;32m    855\u001b[0m                 \u001b[0;34m\"raw_input was called, but this frontend does not support input requests.\"\u001b[0m\u001b[0;34m\u001b[0m\u001b[0;34m\u001b[0m\u001b[0m\n\u001b[1;32m    856\u001b[0m             )\n\u001b[0;32m--> 857\u001b[0;31m         return self._input_request(str(prompt),\n\u001b[0m\u001b[1;32m    858\u001b[0m             \u001b[0mself\u001b[0m\u001b[0;34m.\u001b[0m\u001b[0m_parent_ident\u001b[0m\u001b[0;34m,\u001b[0m\u001b[0;34m\u001b[0m\u001b[0;34m\u001b[0m\u001b[0m\n\u001b[1;32m    859\u001b[0m             \u001b[0mself\u001b[0m\u001b[0;34m.\u001b[0m\u001b[0m_parent_header\u001b[0m\u001b[0;34m,\u001b[0m\u001b[0;34m\u001b[0m\u001b[0;34m\u001b[0m\u001b[0m\n",
      "\u001b[0;32m~/opt/anaconda3/envs/twitter_venv/lib/python3.8/site-packages/ipykernel/kernelbase.py\u001b[0m in \u001b[0;36m_input_request\u001b[0;34m(self, prompt, ident, parent, password)\u001b[0m\n\u001b[1;32m    899\u001b[0m             \u001b[0;32mexcept\u001b[0m \u001b[0mKeyboardInterrupt\u001b[0m\u001b[0;34m:\u001b[0m\u001b[0;34m\u001b[0m\u001b[0;34m\u001b[0m\u001b[0m\n\u001b[1;32m    900\u001b[0m                 \u001b[0;31m# re-raise KeyboardInterrupt, to truncate traceback\u001b[0m\u001b[0;34m\u001b[0m\u001b[0;34m\u001b[0m\u001b[0;34m\u001b[0m\u001b[0m\n\u001b[0;32m--> 901\u001b[0;31m                 \u001b[0;32mraise\u001b[0m \u001b[0mKeyboardInterrupt\u001b[0m\u001b[0;34m(\u001b[0m\u001b[0;34m\"Interrupted by user\"\u001b[0m\u001b[0;34m)\u001b[0m \u001b[0;32mfrom\u001b[0m \u001b[0;32mNone\u001b[0m\u001b[0;34m\u001b[0m\u001b[0;34m\u001b[0m\u001b[0m\n\u001b[0m\u001b[1;32m    902\u001b[0m             \u001b[0;32mexcept\u001b[0m \u001b[0mException\u001b[0m \u001b[0;32mas\u001b[0m \u001b[0me\u001b[0m\u001b[0;34m:\u001b[0m\u001b[0;34m\u001b[0m\u001b[0;34m\u001b[0m\u001b[0m\n\u001b[1;32m    903\u001b[0m                 \u001b[0mself\u001b[0m\u001b[0;34m.\u001b[0m\u001b[0mlog\u001b[0m\u001b[0;34m.\u001b[0m\u001b[0mwarning\u001b[0m\u001b[0;34m(\u001b[0m\u001b[0;34m\"Invalid Message:\"\u001b[0m\u001b[0;34m,\u001b[0m \u001b[0mexc_info\u001b[0m\u001b[0;34m=\u001b[0m\u001b[0;32mTrue\u001b[0m\u001b[0;34m)\u001b[0m\u001b[0;34m\u001b[0m\u001b[0;34m\u001b[0m\u001b[0m\n",
      "\u001b[0;31mKeyboardInterrupt\u001b[0m: Interrupted by user"
     ]
    }
   ],
   "source": [
    "#get_tweets_by_query([\"genomics\", \"biology\", \"variants\"])"
   ]
  },
  {
   "cell_type": "code",
   "execution_count": 18,
   "metadata": {},
   "outputs": [
    {
     "name": "stdout",
     "output_type": "stream",
     "text": [
      "The scroll height is: 4770\n",
      "0\n",
      "<selenium.webdriver.remote.webelement.WebElement (session=\"209091a49a628bee7a82325895e68f0e\", element=\"b0898298-3536-46c3-ac7a-b317798dee08\")>\n",
      "The row text is: Genetics of lymphoma by Dr. Piris #hempathcourseHMAR 2019 era: prognosis and predictive implications of genomics.\n",
      "1\n",
      "<selenium.webdriver.remote.webelement.WebElement (session=\"209091a49a628bee7a82325895e68f0e\", element=\"46cd4f12-38d2-42b8-b590-9c773cbf1eff\")>\n",
      "The row text is: New updates from the Genomics for Australian Plants Initiative here: \n",
      "https://genomicsforaustralianplants.com/2019/01/30/jan-2019-bioinformatic-specialists-appointments/… \n",
      "@BioplatformsAus\n",
      " #ausplant #genomics #plants \n",
      "2\n",
      "<selenium.webdriver.remote.webelement.WebElement (session=\"209091a49a628bee7a82325895e68f0e\", element=\"3abd1ca2-32f3-4847-8dfa-fdab07df6c68\")>\n",
      "The row text is: Caught my 100th bird for my landscape genomics project today but was too busy shooing away a monkey to document it, so here’s the FIRST bird I caught this year: in photo and sketch form! #starlingfever \n",
      "@mpalalive\n",
      " @E3BColumbia\n",
      "3\n",
      "<selenium.webdriver.remote.webelement.WebElement (session=\"209091a49a628bee7a82325895e68f0e\", element=\"3abd1ca2-32f3-4847-8dfa-fdab07df6c68\")>\n",
      "The row text is: Caught my 100th bird for my landscape genomics project today but was too busy shooing away a monkey to document it, so here’s the FIRST bird I caught this year: in photo and sketch form! #starlingfever \n",
      "@mpalalive\n",
      " @E3BColumbia\n",
      "4\n",
      "<selenium.webdriver.remote.webelement.WebElement (session=\"209091a49a628bee7a82325895e68f0e\", element=\"3abd1ca2-32f3-4847-8dfa-fdab07df6c68\")>\n",
      "The row text is: Caught my 100th bird for my landscape genomics project today but was too busy shooing away a monkey to document it, so here’s the FIRST bird I caught this year: in photo and sketch form! #starlingfever \n",
      "@mpalalive\n",
      " @E3BColumbia\n"
     ]
    }
   ],
   "source": [
    "get_tweets_by_query()"
   ]
  }
 ],
 "metadata": {
  "kernelspec": {
   "display_name": "twitter_venv",
   "language": "python",
   "name": "twitter_venv"
  },
  "language_info": {
   "codemirror_mode": {
    "name": "ipython",
    "version": 3
   },
   "file_extension": ".py",
   "mimetype": "text/x-python",
   "name": "python",
   "nbconvert_exporter": "python",
   "pygments_lexer": "ipython3",
   "version": "3.8.0"
  }
 },
 "nbformat": 4,
 "nbformat_minor": 4
}
