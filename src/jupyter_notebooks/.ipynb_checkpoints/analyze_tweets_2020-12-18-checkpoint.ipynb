{
 "cells": [
  {
   "cell_type": "markdown",
   "metadata": {},
   "source": [
    "### Purpose of the script\n",
    "\n",
    "In `hydrate_tweets_2020-12-17.ipynb`, we sourced tweets from https://ieee-dataport.org/open-access/coronavirus-covid-19-geo-tagged-tweets-dataset in order to get tweets with location information.\n",
    "\n",
    "We used tweets from the following dates:\n",
    "\n",
    "1. April 17th: DeSantis issues a statewide stay-at-home order following growing pressure to do so\n",
    "2. May 18th: DeSantis says that Florida will begin full phase one of reopening, allowing gyms and restaurants to operate at 50% capacity, starting May 18.\n",
    "3. June 5th: DeSantis announces that Florida could move into Phase 2 except south Florida, specifically Miami-Dade, Broward, and Palm Beach, which need to submit plans for reopening. Phase 2 in Florida begins, with bars allowed to open at 50% capacity with social distancing and sanitation.\n",
    "4. July 2nd: Florida reports 10,000 new coronavirus cases in a single day, the biggest one-day increase in the state since the pandemic started, and more than any European country had at the height of their outbreaks.\n",
    "5. September 25th: Governor Ron DeSantis fully opened the state of Florida by executive order on Friday. The order also prohibits local governments from imposing fines or shutting down businesses, or enforcing mask mandates\n",
    "6. October 17th: Florida reported its highest COVID19 numbers in two onths. The seven-day average was more than 3,300 cases. Reporting anomalies made it more difficult to gather statistical trends. Positivity rate was 5.2%, with over 2,000 hospitalizations. \n",
    "7. December 17th:  Florida reported 13,148 new cases, largest since July 16th\n",
    "\n",
    "All these dates correspond with important COVID-related events in Florida. I chose Florida since it's had a large range of different COVID-related events (e.g., openings, closings, shutdowns, etc.), rather than some other states that, say, had an initial lockdown and stayed in lockdown. \n",
    "\n",
    "We'll now analyze those tweets. "
   ]
  },
  {
   "cell_type": "code",
   "execution_count": 2,
   "metadata": {},
   "outputs": [],
   "source": [
    "import numpy as np\n",
    "import pandas as pd\n",
    "import os"
   ]
  },
  {
   "cell_type": "code",
   "execution_count": 3,
   "metadata": {},
   "outputs": [],
   "source": [
    "IMPORT_DIR = \"../../data/tweets/\""
   ]
  },
  {
   "cell_type": "code",
   "execution_count": 4,
   "metadata": {},
   "outputs": [
    {
     "data": {
      "text/plain": [
       "['.tweet_scrape_2020-11-30_control.json.icloud',\n",
       " '.DS_Store',\n",
       " '.tweet_scrape_2020_11_25.json.icloud',\n",
       " 'tweet_ids',\n",
       " '.tweet_scrape_2020-11-30_treatment.csv.icloud',\n",
       " '.tweet_scrape_2020-11-30_treatment.json.icloud',\n",
       " '.tweet_scrape_2020-11-30_control.csv.icloud',\n",
       " 'tweets_2020-12-18_with_locations.csv',\n",
       " '.tweet_scrape_2020_11_25.csv.icloud',\n",
       " 'hydrated_tweets']"
      ]
     },
     "execution_count": 4,
     "metadata": {},
     "output_type": "execute_result"
    }
   ],
   "source": [
    "os.listdir(IMPORT_DIR)"
   ]
  },
  {
   "cell_type": "code",
   "execution_count": 6,
   "metadata": {},
   "outputs": [],
   "source": [
    "tweets = pd.read_csv(IMPORT_DIR + \"tweets_2020-12-18_with_locations.csv\")"
   ]
  },
  {
   "cell_type": "code",
   "execution_count": 8,
   "metadata": {},
   "outputs": [
    {
     "data": {
      "text/html": [
       "<div>\n",
       "<style scoped>\n",
       "    .dataframe tbody tr th:only-of-type {\n",
       "        vertical-align: middle;\n",
       "    }\n",
       "\n",
       "    .dataframe tbody tr th {\n",
       "        vertical-align: top;\n",
       "    }\n",
       "\n",
       "    .dataframe thead th {\n",
       "        text-align: right;\n",
       "    }\n",
       "</style>\n",
       "<table border=\"1\" class=\"dataframe\">\n",
       "  <thead>\n",
       "    <tr style=\"text-align: right;\">\n",
       "      <th></th>\n",
       "      <th>Unnamed: 0</th>\n",
       "      <th>id</th>\n",
       "      <th>full_text</th>\n",
       "      <th>retweet_count</th>\n",
       "      <th>favorite_count</th>\n",
       "      <th>US_state</th>\n",
       "      <th>date_of_tweet</th>\n",
       "      <th>month_of_tweet</th>\n",
       "      <th>day_of_tweet</th>\n",
       "      <th>hour_of_tweet</th>\n",
       "      <th>cleaned_text</th>\n",
       "      <th>hashtags</th>\n",
       "      <th>hashtags_count</th>\n",
       "      <th>cleaned_text_no_hashtags</th>\n",
       "    </tr>\n",
       "  </thead>\n",
       "  <tbody>\n",
       "    <tr>\n",
       "      <th>0</th>\n",
       "      <td>0</td>\n",
       "      <td>1250641596887990272</td>\n",
       "      <td>Finally got to a color I love and a length I’m...</td>\n",
       "      <td>0.0</td>\n",
       "      <td>0</td>\n",
       "      <td>VT</td>\n",
       "      <td>2020-04-16</td>\n",
       "      <td>4.0</td>\n",
       "      <td>16</td>\n",
       "      <td>4</td>\n",
       "      <td>['finally', 'got', 'color', 'love', 'length', ...</td>\n",
       "      <td>['#quarantine', '#covid', '#corona', '#haircol...</td>\n",
       "      <td>11.0</td>\n",
       "      <td>['finally', 'got', 'color', 'love', 'length', ...</td>\n",
       "    </tr>\n",
       "    <tr>\n",
       "      <th>1</th>\n",
       "      <td>1</td>\n",
       "      <td>1250646705516707840</td>\n",
       "      <td>#wutang #wutangforever #corona @ Downtown Los ...</td>\n",
       "      <td>0.0</td>\n",
       "      <td>0</td>\n",
       "      <td>CA</td>\n",
       "      <td>2020-04-16</td>\n",
       "      <td>4.0</td>\n",
       "      <td>16</td>\n",
       "      <td>4</td>\n",
       "      <td>['#wutang', '#wutangforever', '#corona', 'down...</td>\n",
       "      <td>['#wutang', '#wutangforever', '#corona']</td>\n",
       "      <td>3.0</td>\n",
       "      <td>['downtown', 'los', 'angeles']</td>\n",
       "    </tr>\n",
       "    <tr>\n",
       "      <th>2</th>\n",
       "      <td>2</td>\n",
       "      <td>1250647034253709315</td>\n",
       "      <td>Swirling again @ Corona, California https://t....</td>\n",
       "      <td>0.0</td>\n",
       "      <td>0</td>\n",
       "      <td>CA</td>\n",
       "      <td>2020-04-16</td>\n",
       "      <td>4.0</td>\n",
       "      <td>16</td>\n",
       "      <td>4</td>\n",
       "      <td>['swirling', 'corona', 'california']</td>\n",
       "      <td>[]</td>\n",
       "      <td>0.0</td>\n",
       "      <td>['swirling', 'corona', 'california']</td>\n",
       "    </tr>\n",
       "    <tr>\n",
       "      <th>3</th>\n",
       "      <td>3</td>\n",
       "      <td>1250655078744240134</td>\n",
       "      <td>Does it feel like you want to #Crawl on the wa...</td>\n",
       "      <td>0.0</td>\n",
       "      <td>0</td>\n",
       "      <td>NaN</td>\n",
       "      <td>2020-04-16</td>\n",
       "      <td>4.0</td>\n",
       "      <td>16</td>\n",
       "      <td>5</td>\n",
       "      <td>['feel', 'like', 'want', '#crawl', 'walls', 'g...</td>\n",
       "      <td>['#crawl', '#quarantine', '#staygolden', '#sta...</td>\n",
       "      <td>9.0</td>\n",
       "      <td>['feel', 'like', 'want', 'walls', 'get', 'here...</td>\n",
       "    </tr>\n",
       "    <tr>\n",
       "      <th>4</th>\n",
       "      <td>4</td>\n",
       "      <td>1250655491904147456</td>\n",
       "      <td>Get your stanky booty to Cave Creek &amp;amp; Care...</td>\n",
       "      <td>0.0</td>\n",
       "      <td>1</td>\n",
       "      <td>AZ</td>\n",
       "      <td>2020-04-16</td>\n",
       "      <td>4.0</td>\n",
       "      <td>16</td>\n",
       "      <td>5</td>\n",
       "      <td>['get', 'stanky', 'booty', 'cave', 'creek', 'a...</td>\n",
       "      <td>['#walmart', '#cavecreek', '#toiletpaper', '#q...</td>\n",
       "      <td>6.0</td>\n",
       "      <td>['get', 'stanky', 'booty', 'cave', 'creek', 'a...</td>\n",
       "    </tr>\n",
       "  </tbody>\n",
       "</table>\n",
       "</div>"
      ],
      "text/plain": [
       "  Unnamed: 0                   id  \\\n",
       "0          0  1250641596887990272   \n",
       "1          1  1250646705516707840   \n",
       "2          2  1250647034253709315   \n",
       "3          3  1250655078744240134   \n",
       "4          4  1250655491904147456   \n",
       "\n",
       "                                           full_text  retweet_count  \\\n",
       "0  Finally got to a color I love and a length I’m...            0.0   \n",
       "1  #wutang #wutangforever #corona @ Downtown Los ...            0.0   \n",
       "2  Swirling again @ Corona, California https://t....            0.0   \n",
       "3  Does it feel like you want to #Crawl on the wa...            0.0   \n",
       "4  Get your stanky booty to Cave Creek &amp; Care...            0.0   \n",
       "\n",
       "  favorite_count US_state date_of_tweet  month_of_tweet day_of_tweet  \\\n",
       "0              0       VT    2020-04-16             4.0           16   \n",
       "1              0       CA    2020-04-16             4.0           16   \n",
       "2              0       CA    2020-04-16             4.0           16   \n",
       "3              0      NaN    2020-04-16             4.0           16   \n",
       "4              1       AZ    2020-04-16             4.0           16   \n",
       "\n",
       "  hour_of_tweet                                       cleaned_text  \\\n",
       "0             4  ['finally', 'got', 'color', 'love', 'length', ...   \n",
       "1             4  ['#wutang', '#wutangforever', '#corona', 'down...   \n",
       "2             4               ['swirling', 'corona', 'california']   \n",
       "3             5  ['feel', 'like', 'want', '#crawl', 'walls', 'g...   \n",
       "4             5  ['get', 'stanky', 'booty', 'cave', 'creek', 'a...   \n",
       "\n",
       "                                            hashtags  hashtags_count  \\\n",
       "0  ['#quarantine', '#covid', '#corona', '#haircol...            11.0   \n",
       "1           ['#wutang', '#wutangforever', '#corona']             3.0   \n",
       "2                                                 []             0.0   \n",
       "3  ['#crawl', '#quarantine', '#staygolden', '#sta...             9.0   \n",
       "4  ['#walmart', '#cavecreek', '#toiletpaper', '#q...             6.0   \n",
       "\n",
       "                            cleaned_text_no_hashtags  \n",
       "0  ['finally', 'got', 'color', 'love', 'length', ...  \n",
       "1                     ['downtown', 'los', 'angeles']  \n",
       "2               ['swirling', 'corona', 'california']  \n",
       "3  ['feel', 'like', 'want', 'walls', 'get', 'here...  \n",
       "4  ['get', 'stanky', 'booty', 'cave', 'creek', 'a...  "
      ]
     },
     "execution_count": 8,
     "metadata": {},
     "output_type": "execute_result"
    }
   ],
   "source": [
    "tweets.head()"
   ]
  },
  {
   "cell_type": "markdown",
   "metadata": {},
   "source": [
    "### What are some per-state trends that we see?"
   ]
  },
  {
   "cell_type": "markdown",
   "metadata": {},
   "source": [
    "How many tweets do we have per state?"
   ]
  },
  {
   "cell_type": "code",
   "execution_count": 9,
   "metadata": {},
   "outputs": [
    {
     "data": {
      "text/plain": [
       "NY                886\n",
       "CA                869\n",
       "USA               492\n",
       "TX                318\n",
       "FL                310\n",
       "GA                180\n",
       "IL                129\n",
       "DC                116\n",
       "NJ                101\n",
       "PA                 93\n",
       "MA                 88\n",
       "MD                 87\n",
       "NC                 81\n",
       "OH                 80\n",
       "TN                 78\n",
       "WA                 75\n",
       "VA                 67\n",
       "MI                 66\n",
       "AZ                 64\n",
       "OR                 63\n",
       "IN                 59\n",
       "CO                 51\n",
       "LA                 49\n",
       "NV                 46\n",
       "AL                 40\n",
       "CT                 35\n",
       "HI                 33\n",
       "MO                 32\n",
       "MN                 30\n",
       "SC                 29\n",
       "UT                 19\n",
       "WI                 19\n",
       "MT                 17\n",
       "RI                 15\n",
       "OK                 15\n",
       "KY                 13\n",
       "MS                 13\n",
       "VT                 12\n",
       "KS                 12\n",
       "NM                 11\n",
       "NE                 10\n",
       "IA                  8\n",
       "SD                  8\n",
       "WV                  7\n",
       "AR                  7\n",
       "ME                  7\n",
       "ID                  6\n",
       "NH                  5\n",
       "Puerto Rico         4\n",
       "AK                  4\n",
       "San Francisco       3\n",
       "WY                  3\n",
       "DE                  2\n",
       "Virgin Islands      1\n",
       "ND                  1\n",
       "10                  1\n",
       "Charlotte           1\n",
       "Winchester          1\n",
       "Name: US_state, dtype: int64"
      ]
     },
     "execution_count": 9,
     "metadata": {},
     "output_type": "execute_result"
    }
   ],
   "source": [
    "tweets[\"US_state\"].value_counts()"
   ]
  },
  {
   "cell_type": "markdown",
   "metadata": {},
   "source": [
    "We don't have a lot of state-level information (or tweets, for that matter), but we have enough to work with as a first pass. "
   ]
  },
  {
   "cell_type": "code",
   "execution_count": null,
   "metadata": {},
   "outputs": [],
   "source": []
  }
 ],
 "metadata": {
  "kernelspec": {
   "display_name": "twitter_venv",
   "language": "python",
   "name": "twitter_venv"
  },
  "language_info": {
   "codemirror_mode": {
    "name": "ipython",
    "version": 3
   },
   "file_extension": ".py",
   "mimetype": "text/x-python",
   "name": "python",
   "nbconvert_exporter": "python",
   "pygments_lexer": "ipython3",
   "version": "3.6.12"
  }
 },
 "nbformat": 4,
 "nbformat_minor": 4
}
