{
 "cells": [
  {
   "cell_type": "markdown",
   "metadata": {},
   "source": [
    "### Purpose of Script\n",
    "\n",
    "The purpose of this script is to get some analytics on the Gerstein Lab Twitter page. \n",
    "\n",
    "Let's check out the lab's Twitter page, Mark Gerstein's Twitter page, and also get an idea of how many people are engaging with the lab's material. \n",
    "\n",
    "Here's a primer on Twitter analytics: `https://buffer.com/library/twitter-analytics/`\n",
    "\n",
    "Seems like there's a limit to what I can do if I don't have access to the analytics dashboard (each account has an associated analytics dashboard that tracks the performance of their tweets as well as any activity on the account). "
   ]
  },
  {
   "cell_type": "code",
   "execution_count": 1,
   "metadata": {},
   "outputs": [],
   "source": [
    "import numpy as np\n",
    "import pandas as pd\n",
    "import tweepy"
   ]
  },
  {
   "cell_type": "code",
   "execution_count": null,
   "metadata": {},
   "outputs": [],
   "source": []
  },
  {
   "cell_type": "code",
   "execution_count": null,
   "metadata": {},
   "outputs": [],
   "source": []
  }
 ],
 "metadata": {
  "kernelspec": {
   "display_name": "twitter_venv",
   "language": "python",
   "name": "twitter_venv"
  },
  "language_info": {
   "codemirror_mode": {
    "name": "ipython",
    "version": 3
   },
   "file_extension": ".py",
   "mimetype": "text/x-python",
   "name": "python",
   "nbconvert_exporter": "python",
   "pygments_lexer": "ipython3",
   "version": "3.8.0"
  }
 },
 "nbformat": 4,
 "nbformat_minor": 4
}
